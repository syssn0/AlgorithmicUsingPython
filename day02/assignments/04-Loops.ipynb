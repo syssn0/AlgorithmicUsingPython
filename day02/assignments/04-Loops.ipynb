{
 "cells": [
  {
   "cell_type": "markdown",
   "id": "08d7d2f3",
   "metadata": {},
   "source": [
    "## Loops\n",
    "### 1. Suppose that l=[1,10,11,16,3,5,16,25,23]"
   ]
  },
  {
   "cell_type": "markdown",
   "id": "50142989",
   "metadata": {},
   "source": [
    "### Exercise 1: \n",
    "\n",
    "#### Print the values and indices of the list.\n",
    "\n",
    "- Output:\n",
    "```python\n",
    "0 1\n",
    "1 10\n",
    "2 11\n",
    "3 16\n",
    "4 3\n",
    "5 5\n",
    "6 16\n",
    "7 25\n",
    "8 23\n",
    "```"
   ]
  },
  {
   "cell_type": "code",
   "execution_count": 4,
   "id": "c9fbbe45",
   "metadata": {},
   "outputs": [
    {
     "name": "stdout",
     "output_type": "stream",
     "text": [
      "0 1\n",
      "1 10\n",
      "2 11\n",
      "3 16\n",
      "4 3\n",
      "5 5\n",
      "6 16\n",
      "7 25\n",
      "8 23\n"
     ]
    }
   ],
   "source": [
    "#I=[1,10,11,16,3,5,16,25,23]\n",
    "#i=0\n",
    "#for j in I:\n",
    "    #print(i,j)\n",
    "    #i+=1\n",
    "    \n",
    "\n",
    "I=[1,10,11,16,3,5,16,25,23] \n",
    "for i,j in enumerate(I):\n",
    "    print(i,j)"
   ]
  },
  {
   "cell_type": "markdown",
   "id": "7fef3471",
   "metadata": {},
   "source": [
    "### Exercise 2: \n",
    "\n",
    "#### Print the odd numbers of the list.\n",
    "\n",
    "- Output\n",
    "```python\n",
    "1\n",
    "11\n",
    "3\n",
    "5\n",
    "25\n",
    "23\n",
    "```"
   ]
  },
  {
   "cell_type": "code",
   "execution_count": 18,
   "id": "20be687a",
   "metadata": {},
   "outputs": [
    {
     "name": "stdout",
     "output_type": "stream",
     "text": [
      "1\n",
      "11\n",
      "3\n",
      "5\n",
      "25\n",
      "23\n"
     ]
    }
   ],
   "source": [
    "#lst=[1,11,3,5,25,23]\n",
    "#for a,i in enumerate(lst):\n",
    "   # if i%2!=0:\n",
    "      #  print(i)\n",
    "lst=[1,11,3,5,25,23]\n",
    "for num in lst:\n",
    "    if num%2!=0:\n",
    "        print(num)"
   ]
  },
  {
   "cell_type": "markdown",
   "id": "39898e47",
   "metadata": {},
   "source": [
    "### Exersise 3: \n",
    "\n",
    "#### Compute the sum of the list.\n",
    "\n",
    "- Output\n",
    "```python\n",
    "s = 110\n",
    "```"
   ]
  },
  {
   "cell_type": "code",
   "execution_count": 23,
   "id": "ed38f5b6",
   "metadata": {},
   "outputs": [
    {
     "name": "stdout",
     "output_type": "stream",
     "text": [
      "110\n"
     ]
    }
   ],
   "source": [
    "#l=[1,10,11,16,3,5,16,25,23]\n",
    "#somme=sum(l)\n",
    "#print(somme)\n",
    "def sommeliste(l):\n",
    "    somme=0\n",
    "    for i in l:\n",
    "        somme=somme+i\n",
    "    return somme\n",
    "\n",
    "\n",
    "l=[1,10,11,16,3,5,16,25,23]  \n",
    "print(sommeliste(l))"
   ]
  },
  {
   "cell_type": "markdown",
   "id": "b8993ae7",
   "metadata": {},
   "source": [
    "### Exercise 4: \n",
    "\n",
    "#### Calculate the cube of all numbers of the list.\n",
    "\n",
    "- Output\n",
    "```python\n",
    "1\n",
    "100\n",
    "121\n",
    "256\n",
    "9\n",
    "25\n",
    "256\n",
    "625\n",
    "529\n",
    "```"
   ]
  },
  {
   "cell_type": "code",
   "execution_count": 10,
   "id": "6c2c7e1a",
   "metadata": {},
   "outputs": [],
   "source": []
  },
  {
   "cell_type": "markdown",
   "id": "34801abd",
   "metadata": {},
   "source": [
    "### Exercise 5: \n",
    "\n",
    "#### Calculate the cube of all numbers of the list.\n",
    "\n",
    "- Output\n",
    "```python\n",
    "1\n",
    "100\n",
    "121\n",
    "256\n",
    "9\n",
    "25\n",
    "256\n",
    "625\n",
    "529\n",
    "```"
   ]
  },
  {
   "cell_type": "code",
   "execution_count": 10,
   "id": "f736ec5f",
   "metadata": {},
   "outputs": [],
   "source": [
    "#Your answer"
   ]
  },
  {
   "cell_type": "markdown",
   "id": "5e26799a",
   "metadata": {},
   "source": [
    "### Exercise 6: \n",
    "\n",
    "#### Calculate the cube of all numbers of the list.\n",
    "\n",
    "- Output\n",
    "```python\n",
    "1\n",
    "100\n",
    "121\n",
    "256\n",
    "9\n",
    "25\n",
    "256\n",
    "625\n",
    "529\n",
    "```"
   ]
  },
  {
   "cell_type": "code",
   "execution_count": 10,
   "id": "123ba1f0",
   "metadata": {},
   "outputs": [],
   "source": [
    "#Your answer"
   ]
  },
  {
   "cell_type": "markdown",
   "id": "3253ffde",
   "metadata": {},
   "source": [
    "### Exercise 7: \n",
    "\n",
    "#### Calculate the cube of all numbers of the list.\n",
    "\n",
    "- Output\n",
    "```python\n",
    "1\n",
    "100\n",
    "121\n",
    "256\n",
    "9\n",
    "25\n",
    "256\n",
    "625\n",
    "529\n",
    "```"
   ]
  },
  {
   "cell_type": "code",
   "execution_count": 10,
   "id": "34a6946a",
   "metadata": {},
   "outputs": [],
   "source": [
    "#Your answer"
   ]
  },
  {
   "cell_type": "markdown",
   "id": "e1084b1a",
   "metadata": {},
   "source": [
    "### 2. Suppose that M=[[1,3,5], [9,13,4], [8,4,1], [10,31,15]]\n",
    "### Exercise 1: \n",
    "\n",
    "#### Print the indices and values of the list.\n",
    "\n",
    "- Output\n",
    "```python\n",
    "0 0 1\n",
    "0 1 3\n",
    "0 2 5\n",
    "1 0 9\n",
    "1 1 13\n",
    "1 2 4\n",
    "2 0 8\n",
    "2 1 4\n",
    "2 2 1\n",
    "3 0 10\n",
    "3 1 31\n",
    "3 2 15\n",
    "```"
   ]
  },
  {
   "cell_type": "code",
   "execution_count": 17,
   "id": "53a40957",
   "metadata": {},
   "outputs": [],
   "source": [
    "#Your answer"
   ]
  },
  {
   "cell_type": "markdown",
   "id": "df75c7ad",
   "metadata": {},
   "source": [
    "### Exercise 2: \n",
    "\n",
    "#### Print the even numbers of the list.\n",
    "\n",
    "- Output\n",
    "```python\n",
    "4\n",
    "8\n",
    "4\n",
    "10\n",
    "```"
   ]
  },
  {
   "cell_type": "code",
   "execution_count": 32,
   "id": "189a1229",
   "metadata": {},
   "outputs": [
    {
     "name": "stdout",
     "output_type": "stream",
     "text": [
      "4\n",
      "8\n",
      "4\n",
      "10\n"
     ]
    }
   ],
   "source": [
    "list=[4,8,4,10]\n",
    "for num in list:\n",
    "    if num%2==0:\n",
    "        print(num)"
   ]
  },
  {
   "cell_type": "markdown",
   "id": "4ec3ef5d",
   "metadata": {},
   "source": [
    "### Exercise 3: \n",
    "\n",
    "#### Compute the sum of odd numbers.\n",
    "\n",
    "- Output\n",
    "```python\n",
    "s = 78\n",
    "```"
   ]
  },
  {
   "cell_type": "code",
   "execution_count": 33,
   "id": "66620729",
   "metadata": {},
   "outputs": [
    {
     "name": "stdout",
     "output_type": "stream",
     "text": [
      "26\n"
     ]
    }
   ],
   "source": []
  },
  {
   "cell_type": "code",
   "execution_count": null,
   "id": "c4b34ce0",
   "metadata": {},
   "outputs": [],
   "source": []
  }
 ],
 "metadata": {
  "kernelspec": {
   "display_name": "Python 3 (ipykernel)",
   "language": "python",
   "name": "python3"
  },
  "language_info": {
   "codemirror_mode": {
    "name": "ipython",
    "version": 3
   },
   "file_extension": ".py",
   "mimetype": "text/x-python",
   "name": "python",
   "nbconvert_exporter": "python",
   "pygments_lexer": "ipython3",
   "version": "3.9.12"
  }
 },
 "nbformat": 4,
 "nbformat_minor": 5
}
