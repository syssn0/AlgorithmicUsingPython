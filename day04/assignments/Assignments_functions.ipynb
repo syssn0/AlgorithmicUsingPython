{
 "cells": [
  {
   "cell_type": "markdown",
   "metadata": {},
   "source": [
    "## Functions exercises "
   ]
  },
  {
   "cell_type": "markdown",
   "metadata": {},
   "source": [
    "### Exercise 1:\n",
    "\n",
    "1- Create a function `compute_power(x,y)` which return $x^y$ using the `**` operator.\n",
    "\n",
    "- Desired output:\n",
    "```Python\n",
    ">>> 2**2\n",
    "4\n",
    ">>> 2**3\n",
    "8\n",
    ">>> 2**4\n",
    "16\n",
    "```\n",
    "\n",
    "2- Compute the $2^i$ (i=0,...,20)."
   ]
  },
  {
   "cell_type": "code",
   "execution_count": 5,
   "metadata": {},
   "outputs": [
    {
     "name": "stdout",
     "output_type": "stream",
     "text": [
      "donner une valeur2\n",
      "donner une valeur3\n",
      "8\n",
      "64\n"
     ]
    }
   ],
   "source": [
    "def compute_power(x,y):\n",
    "    a=x**y\n",
    "    print(a)\n",
    "x=int(input('donner une valeur'))\n",
    "y=int(input('donner une valeur'))\n",
    "compute_power(x,y)\n",
    "compute_power(2,6)"
   ]
  },
  {
   "cell_type": "markdown",
   "metadata": {},
   "source": [
    "### Exercise 2:\n",
    "\n",
    "1- Create a function that draw a pyramid with N rows (N given by the user), as below:\n",
    "\n",
    "- Desired output:\n",
    "```Python\n",
    "          *\n",
    "         ***\n",
    "        *****\n",
    "       *******\n",
    "      *********\n",
    "     ***********\n",
    "    *************\n",
    "   ***************\n",
    "  *****************\n",
    "```"
   ]
  },
  {
   "cell_type": "code",
   "execution_count": 18,
   "metadata": {},
   "outputs": [
    {
     "name": "stdout",
     "output_type": "stream",
     "text": [
      "         *\n",
      "        ***\n",
      "       *****\n",
      "      *******\n",
      "     *********\n",
      "    ***********\n",
      "   *************\n",
      "  ***************\n",
      " *****************\n"
     ]
    }
   ],
   "source": [
    "def pyramid(n):\n",
    "    for i in range(n):\n",
    "        print(\" \"*(n-i)+\"*\"*2*(i)+\"*\")\n",
    "pyramid(9)        "
   ]
  },
  {
   "cell_type": "markdown",
   "metadata": {},
   "source": [
    "### Exercise 3:\n",
    "\n",
    "1- Create a function `compute_3D_distance()` which calculate the euclidean distance in 3D between two atoms.\n",
    "\n",
    "2- Test the function using the two vertices $A(0,0,0)$ et $B(1,1,1)$. Do you find $\\sqrt 3$ ?\n",
    "\n",
    "- The euclidean distance between two vertices $A(x_A,y_A,z_A)$ and $A(x_B,y_B,z_B)$ is: $\\sqrt{ \\left( x_B - x_A \\right)^{2} +  \\left( y_B - y_A \\right)^{2} +  \\left( z_B - z_A \\right)^{2}}$\n"
   ]
  },
  {
   "cell_type": "code",
   "execution_count": 6,
   "metadata": {},
   "outputs": [
    {
     "name": "stdout",
     "output_type": "stream",
     "text": [
      "sqrt(2)*I\n"
     ]
    }
   ],
   "source": [
    "import sympy as sy\n",
    "def compute_distance(a,b,c,d,e,f):\n",
    "    d=sy.sqrt((a-d)*2+(b-e)*2+(c-f)*2)\n",
    "    return d\n",
    "print(compute_distance(0,1,0,1,0,1))"
   ]
  },
  {
   "cell_type": "markdown",
   "metadata": {},
   "source": [
    "### Exercise 4:\n",
    "\n",
    "1- Write a function `x(n)` for computing an element in the sequence $x_n=n^2+1$. \n",
    "\n",
    "2- Call the function for $n=4$ and write out the result.\n"
   ]
  },
  {
   "cell_type": "code",
   "execution_count": 2,
   "metadata": {},
   "outputs": [
    {
     "name": "stdout",
     "output_type": "stream",
     "text": [
      "donner la valeur 4\n",
      "17\n",
      "17\n"
     ]
    }
   ],
   "source": [
    "def x(n):\n",
    "    x=n**2 +1\n",
    "    print(x)\n",
    "n=int(input('donner la valeur '))\n",
    "x(n)\n",
    "x(4)\n"
   ]
  },
  {
   "cell_type": "markdown",
   "metadata": {},
   "source": [
    "### Exercise 5:\n",
    "\n",
    "1- Write a Python function that evaluates the mathematical functions $f(x)=cos(2x)$, $f^\\prime(x)=-2sin(2x)$, and $f\\prime\\prime(x)=-4cos(2x)$. \n",
    "\n",
    "2- Return these three values. Write out the results of these values for $x=\\pi$\n",
    "\n",
    "\n"
   ]
  },
  {
   "cell_type": "code",
   "execution_count": 9,
   "metadata": {},
   "outputs": [
    {
     "name": "stdout",
     "output_type": "stream",
     "text": [
      "1.0 4.898587196589413e-16 -4.0\n"
     ]
    }
   ],
   "source": [
    "from math import cos,sin,pi\n",
    "def derive(x):\n",
    "    return cos(2*x),-2*sin(2*x),-4*cos(2*x)\n",
    "a,b,c=derive(pi)\n",
    "print(a,b,c)"
   ]
  },
  {
   "cell_type": "markdown",
   "metadata": {},
   "source": [
    "### Exercise 6:\n",
    "\n",
    "1- Write python function to solve $ax^2+bx+c=0$.  (a, b, c are given by the user).\n",
    "\n"
   ]
  },
  {
   "cell_type": "code",
   "execution_count": null,
   "metadata": {},
   "outputs": [],
   "source": [
    "def equation_second_degre(a,b,c):\n",
    "import math\n",
    "a=float(input(entrer la valeur))\n",
    "b=float(input(entrer la valeur))\n",
    "c=float(input(entrer la valeur))\n",
    "delta=b**2-4*a*c\n",
    "if delta<0:\n",
    "    print('pas de solution')\n",
    "elif delta==0 :\n",
    "    x=(-b)/2a\n",
    "    print('la solution est 'x)\n",
    "else delta>0:\n",
    "    x1=((-b-math.sqrt))/2a\n",
    "    x2=((-b+math.sqrt))/2a\n",
    "    print(''l'equation a deux solutions''x1 ,x2)\n"
   ]
  },
  {
   "cell_type": "markdown",
   "metadata": {},
   "source": [
    "### Exercise 7:\n",
    "\n",
    "- Monte Carlo methods are a broad class of computational algorithms that rely on repeated random sampling to obtain numerical results. \n",
    "- One of the basic examples of getting started with the Monte Carlo algorithm is the estimation of Pi.\n",
    "\n",
    "## Estimation of Pi\n",
    "- The idea is to simulate random (x, y) points in a 2-D plane with domain as a square of side 1 unit. \n",
    "- Imagine a circle inside the same domain with same diameter and inscribed into the square. \n",
    "- We then calculate the ratio of number points that lied inside the circle and total number of generated points. \n",
    "- Refer to the image below:\n",
    "\n",
    "![demo](figures/MonteCarloPlot.png)\n",
    "\n",
    "\n",
    "\n",
    "## The Algorithm\n",
    "\n",
    "1. Initialize circle_points, square_points and interval to 0.\n",
    "2. Generate random point x.\n",
    "3. Generate random point y.\n",
    "4. Calculate d = x*x + y*y.\n",
    "5. If d <= 1, increment circle_points.\n",
    "6. Increment square_points.\n",
    "7. Increment interval.\n",
    "8. If increment < NO_OF_ITERATIONS, repeat from 2.\n",
    "9. Calculate pi = 4*(circle_points/square_points).\n",
    "10. Terminate.\n",
    "\n"
   ]
  },
  {
   "cell_type": "code",
   "execution_count": 20,
   "metadata": {},
   "outputs": [
    {
     "name": "stdout",
     "output_type": "stream",
     "text": [
      "3.14976\n"
     ]
    }
   ],
   "source": [
    "from random import*\n",
    "def estimation(n):\n",
    "    c=0\n",
    "    for i in range (n):\n",
    "        x=uniform(-1,1)\n",
    "        y=uniform(-1,1)\n",
    "        if x*x+y*y<1:\n",
    "            c=c+1\n",
    "    print(4*c/n)        \n",
    "estimation(100000)    "
   ]
  },
  {
   "cell_type": "code",
   "execution_count": null,
   "metadata": {},
   "outputs": [],
   "source": []
  },
  {
   "cell_type": "code",
   "execution_count": null,
   "metadata": {},
   "outputs": [],
   "source": []
  }
 ],
 "metadata": {
  "kernelspec": {
   "display_name": "Python 3 (ipykernel)",
   "language": "python",
   "name": "python3"
  },
  "language_info": {
   "codemirror_mode": {
    "name": "ipython",
    "version": 3
   },
   "file_extension": ".py",
   "mimetype": "text/x-python",
   "name": "python",
   "nbconvert_exporter": "python",
   "pygments_lexer": "ipython3",
   "version": "3.9.12"
  }
 },
 "nbformat": 4,
 "nbformat_minor": 4
}
